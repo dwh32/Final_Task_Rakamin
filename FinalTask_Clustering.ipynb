{
 "cells": [
  {
   "cell_type": "markdown",
   "id": "09648559-9dd7-4ed7-b773-1f2c3f29084b",
   "metadata": {},
   "source": [
    "# FINAL TASK KALBE NUTRITIONAL DATA SCIENTIST - CLUSTERING"
   ]
  },
  {
   "cell_type": "markdown",
   "id": "52b49c8b-4328-4b66-b8fa-4b24546ad4b1",
   "metadata": {},
   "source": [
    "## IMPORT LIBRARIES"
   ]
  },
  {
   "cell_type": "code",
   "execution_count": 29,
   "id": "a68a37fc-7481-4007-9fe7-1315654831ab",
   "metadata": {},
   "outputs": [],
   "source": [
    "import pandas as pd\n",
    "import numpy as np\n",
    "import seaborn as sns\n",
    "import matplotlib.pyplot as plt\n",
    "from sklearn.metrics import mean_absolute_error, mean_squared_error, silhouette_score\n",
    "from sklearn import preprocessing\n",
    "from sklearn.cluster import KMeans"
   ]
  },
  {
   "cell_type": "markdown",
   "id": "1d883a2c-469e-4c96-83de-7bde58a97797",
   "metadata": {},
   "source": [
    "## IMPORT DATA"
   ]
  },
  {
   "cell_type": "code",
   "execution_count": 2,
   "id": "824e0387-7629-4e9a-8f80-7308985038fb",
   "metadata": {},
   "outputs": [],
   "source": [
    "df_transaction = pd.read_csv('transaction.csv', delimiter=';')\n",
    "df_store = pd.read_csv('store.csv', delimiter=';')\n",
    "df_customer = pd.read_csv('customers.csv', delimiter=';')\n",
    "df_product = pd.read_csv('product.csv', delimiter=';')"
   ]
  },
  {
   "cell_type": "markdown",
   "id": "f1a665a4-2031-415e-a5c7-a57ac865f7da",
   "metadata": {},
   "source": [
    "## DATA CLEANING"
   ]
  },
  {
   "cell_type": "code",
   "execution_count": 3,
   "id": "bfff18e5-20e3-4aef-8fda-04dbecd62d84",
   "metadata": {},
   "outputs": [
    {
     "name": "stdout",
     "output_type": "stream",
     "text": [
      "<class 'pandas.core.frame.DataFrame'>\n",
      "RangeIndex: 447 entries, 0 to 446\n",
      "Data columns (total 5 columns):\n",
      " #   Column          Non-Null Count  Dtype \n",
      "---  ------          --------------  ----- \n",
      " 0   CustomerID      447 non-null    int64 \n",
      " 1   Age             447 non-null    int64 \n",
      " 2   Gender          447 non-null    int64 \n",
      " 3   Marital Status  444 non-null    object\n",
      " 4   Income          447 non-null    object\n",
      "dtypes: int64(3), object(2)\n",
      "memory usage: 17.6+ KB\n"
     ]
    }
   ],
   "source": [
    "df_customer.info()"
   ]
  },
  {
   "cell_type": "code",
   "execution_count": 4,
   "id": "81a7953e-7a30-4d53-b1fd-5bbf97f52488",
   "metadata": {},
   "outputs": [],
   "source": [
    "# INPUTASI NILAI KOSONG KOLOM 'Marital Status'\n",
    "\n",
    "df_customer = df_customer.fillna('Married')"
   ]
  },
  {
   "cell_type": "code",
   "execution_count": 5,
   "id": "50f605bb-9bd2-4a0e-be3e-cf8da8f2d297",
   "metadata": {},
   "outputs": [
    {
     "name": "stdout",
     "output_type": "stream",
     "text": [
      "<class 'pandas.core.frame.DataFrame'>\n",
      "RangeIndex: 447 entries, 0 to 446\n",
      "Data columns (total 5 columns):\n",
      " #   Column          Non-Null Count  Dtype \n",
      "---  ------          --------------  ----- \n",
      " 0   CustomerID      447 non-null    int64 \n",
      " 1   Age             447 non-null    int64 \n",
      " 2   Gender          447 non-null    int64 \n",
      " 3   Marital Status  447 non-null    object\n",
      " 4   Income          447 non-null    object\n",
      "dtypes: int64(3), object(2)\n",
      "memory usage: 17.6+ KB\n"
     ]
    }
   ],
   "source": [
    "df_customer.info()"
   ]
  },
  {
   "cell_type": "code",
   "execution_count": 6,
   "id": "fe336829-7cb5-46f2-90b0-4ea1723c0262",
   "metadata": {},
   "outputs": [],
   "source": [
    "# MENGUBAH TANDA , DALAM KOLOM 'Income'\n",
    "\n",
    "df_customer['Income'] = df_customer['Income'].replace(',', '.', regex=True)"
   ]
  },
  {
   "cell_type": "code",
   "execution_count": 7,
   "id": "fb6a4240-f691-40db-be51-432d4a050781",
   "metadata": {},
   "outputs": [],
   "source": [
    "# MENGUBAH TIPE DATA KOLOM 'Income'\n",
    "\n",
    "df_customer['Income'] = df_customer['Income'].astype('float64')"
   ]
  },
  {
   "cell_type": "code",
   "execution_count": 8,
   "id": "e3dda3d7-a272-4ecb-865f-ea4e71edfa80",
   "metadata": {},
   "outputs": [
    {
     "name": "stdout",
     "output_type": "stream",
     "text": [
      "<class 'pandas.core.frame.DataFrame'>\n",
      "RangeIndex: 447 entries, 0 to 446\n",
      "Data columns (total 5 columns):\n",
      " #   Column          Non-Null Count  Dtype  \n",
      "---  ------          --------------  -----  \n",
      " 0   CustomerID      447 non-null    int64  \n",
      " 1   Age             447 non-null    int64  \n",
      " 2   Gender          447 non-null    int64  \n",
      " 3   Marital Status  447 non-null    object \n",
      " 4   Income          447 non-null    float64\n",
      "dtypes: float64(1), int64(3), object(1)\n",
      "memory usage: 17.6+ KB\n"
     ]
    }
   ],
   "source": [
    "df_customer.info()"
   ]
  },
  {
   "cell_type": "code",
   "execution_count": 9,
   "id": "b638159f-423c-434e-a8af-31ff007c3ea5",
   "metadata": {},
   "outputs": [
    {
     "name": "stdout",
     "output_type": "stream",
     "text": [
      "<class 'pandas.core.frame.DataFrame'>\n",
      "RangeIndex: 14 entries, 0 to 13\n",
      "Data columns (total 6 columns):\n",
      " #   Column      Non-Null Count  Dtype  \n",
      "---  ------      --------------  -----  \n",
      " 0   storeid     14 non-null     int64  \n",
      " 1   storename   14 non-null     object \n",
      " 2   groupstore  14 non-null     object \n",
      " 3   Type        14 non-null     object \n",
      " 4   latitude    14 non-null     float64\n",
      " 5   longitude   14 non-null     float64\n",
      "dtypes: float64(2), int64(1), object(3)\n",
      "memory usage: 804.0+ bytes\n"
     ]
    }
   ],
   "source": [
    "df_store.info()"
   ]
  },
  {
   "cell_type": "code",
   "execution_count": 10,
   "id": "fa3637af-b99c-4188-8b02-6c3fcd2eb36b",
   "metadata": {},
   "outputs": [
    {
     "name": "stdout",
     "output_type": "stream",
     "text": [
      "<class 'pandas.core.frame.DataFrame'>\n",
      "RangeIndex: 14 entries, 0 to 13\n",
      "Data columns (total 6 columns):\n",
      " #   Column      Non-Null Count  Dtype  \n",
      "---  ------      --------------  -----  \n",
      " 0   StoreID     14 non-null     int64  \n",
      " 1   StoreName   14 non-null     object \n",
      " 2   GroupStore  14 non-null     object \n",
      " 3   Type        14 non-null     object \n",
      " 4   Latitude    14 non-null     float64\n",
      " 5   Longitude   14 non-null     float64\n",
      "dtypes: float64(2), int64(1), object(3)\n",
      "memory usage: 804.0+ bytes\n"
     ]
    }
   ],
   "source": [
    "# MENGUBAH NAMA KOLOM MENJADI HURUF KAPITAL\n",
    "\n",
    "df_store.rename(columns={\n",
    "    'storeid': 'StoreID',\n",
    "    'storename': 'StoreName',\n",
    "    'groupstore': 'GroupStore',\n",
    "    'latitude': 'Latitude',\n",
    "    'longitude': 'Longitude'\n",
    "}, inplace=True)\n",
    "\n",
    "df_store.info()"
   ]
  },
  {
   "cell_type": "code",
   "execution_count": 11,
   "id": "c4a69747-1c65-4844-ae64-5378f6d4cf12",
   "metadata": {},
   "outputs": [
    {
     "name": "stdout",
     "output_type": "stream",
     "text": [
      "<class 'pandas.core.frame.DataFrame'>\n",
      "RangeIndex: 10 entries, 0 to 9\n",
      "Data columns (total 3 columns):\n",
      " #   Column        Non-Null Count  Dtype \n",
      "---  ------        --------------  ----- \n",
      " 0   ProductID     10 non-null     object\n",
      " 1   Product Name  10 non-null     object\n",
      " 2   Price         10 non-null     int64 \n",
      "dtypes: int64(1), object(2)\n",
      "memory usage: 372.0+ bytes\n"
     ]
    }
   ],
   "source": [
    "df_product.info()"
   ]
  },
  {
   "cell_type": "code",
   "execution_count": 12,
   "id": "491e3d01-6d09-4ff5-a43b-33e50db09000",
   "metadata": {},
   "outputs": [
    {
     "name": "stdout",
     "output_type": "stream",
     "text": [
      "<class 'pandas.core.frame.DataFrame'>\n",
      "RangeIndex: 5020 entries, 0 to 5019\n",
      "Data columns (total 8 columns):\n",
      " #   Column         Non-Null Count  Dtype \n",
      "---  ------         --------------  ----- \n",
      " 0   TransactionID  5020 non-null   object\n",
      " 1   CustomerID     5020 non-null   int64 \n",
      " 2   Date           5020 non-null   object\n",
      " 3   ProductID      5020 non-null   object\n",
      " 4   Price          5020 non-null   int64 \n",
      " 5   Qty            5020 non-null   int64 \n",
      " 6   TotalAmount    5020 non-null   int64 \n",
      " 7   StoreID        5020 non-null   int64 \n",
      "dtypes: int64(5), object(3)\n",
      "memory usage: 313.9+ KB\n"
     ]
    }
   ],
   "source": [
    "df_transaction.info()"
   ]
  },
  {
   "cell_type": "code",
   "execution_count": 13,
   "id": "e587e525-19cf-4410-bd31-623262ec8e0c",
   "metadata": {},
   "outputs": [
    {
     "data": {
      "text/plain": [
       "TransactionID\n",
       "TR71313    3\n",
       "TR42197    2\n",
       "TR90402    2\n",
       "TR74019    2\n",
       "TR49649    2\n",
       "          ..\n",
       "TR29792    1\n",
       "TR23081    1\n",
       "TR1691     1\n",
       "TR98388    1\n",
       "TR85684    1\n",
       "Name: count, Length: 4908, dtype: int64"
      ]
     },
     "execution_count": 13,
     "metadata": {},
     "output_type": "execute_result"
    }
   ],
   "source": [
    "df_transaction['TransactionID'].value_counts()"
   ]
  },
  {
   "cell_type": "code",
   "execution_count": 14,
   "id": "b48efdd9-707d-4bd7-abcd-6f1c74431673",
   "metadata": {},
   "outputs": [
    {
     "data": {
      "text/html": [
       "<div>\n",
       "<style scoped>\n",
       "    .dataframe tbody tr th:only-of-type {\n",
       "        vertical-align: middle;\n",
       "    }\n",
       "\n",
       "    .dataframe tbody tr th {\n",
       "        vertical-align: top;\n",
       "    }\n",
       "\n",
       "    .dataframe thead th {\n",
       "        text-align: right;\n",
       "    }\n",
       "</style>\n",
       "<table border=\"1\" class=\"dataframe\">\n",
       "  <thead>\n",
       "    <tr style=\"text-align: right;\">\n",
       "      <th></th>\n",
       "      <th>TransactionID</th>\n",
       "      <th>CustomerID</th>\n",
       "      <th>Date</th>\n",
       "      <th>ProductID</th>\n",
       "      <th>Price</th>\n",
       "      <th>Qty</th>\n",
       "      <th>TotalAmount</th>\n",
       "      <th>StoreID</th>\n",
       "    </tr>\n",
       "  </thead>\n",
       "  <tbody>\n",
       "    <tr>\n",
       "      <th>1982</th>\n",
       "      <td>TR71313</td>\n",
       "      <td>117</td>\n",
       "      <td>21/05/2022</td>\n",
       "      <td>P1</td>\n",
       "      <td>8800</td>\n",
       "      <td>10</td>\n",
       "      <td>88000</td>\n",
       "      <td>8</td>\n",
       "    </tr>\n",
       "    <tr>\n",
       "      <th>3336</th>\n",
       "      <td>TR71313</td>\n",
       "      <td>401</td>\n",
       "      <td>30/08/2022</td>\n",
       "      <td>P3</td>\n",
       "      <td>7500</td>\n",
       "      <td>6</td>\n",
       "      <td>45000</td>\n",
       "      <td>11</td>\n",
       "    </tr>\n",
       "    <tr>\n",
       "      <th>3722</th>\n",
       "      <td>TR71313</td>\n",
       "      <td>370</td>\n",
       "      <td>26/09/2022</td>\n",
       "      <td>P3</td>\n",
       "      <td>7500</td>\n",
       "      <td>2</td>\n",
       "      <td>15000</td>\n",
       "      <td>3</td>\n",
       "    </tr>\n",
       "  </tbody>\n",
       "</table>\n",
       "</div>"
      ],
      "text/plain": [
       "     TransactionID  CustomerID        Date ProductID  Price  Qty  TotalAmount  \\\n",
       "1982       TR71313         117  21/05/2022        P1   8800   10        88000   \n",
       "3336       TR71313         401  30/08/2022        P3   7500    6        45000   \n",
       "3722       TR71313         370  26/09/2022        P3   7500    2        15000   \n",
       "\n",
       "      StoreID  \n",
       "1982        8  \n",
       "3336       11  \n",
       "3722        3  "
      ]
     },
     "execution_count": 14,
     "metadata": {},
     "output_type": "execute_result"
    }
   ],
   "source": [
    "df_transaction[df_transaction['TransactionID'] == 'TR71313']"
   ]
  },
  {
   "cell_type": "code",
   "execution_count": 15,
   "id": "0b97693f-33ed-4125-98bd-033ed1840a3a",
   "metadata": {},
   "outputs": [
    {
     "data": {
      "text/html": [
       "<div>\n",
       "<style scoped>\n",
       "    .dataframe tbody tr th:only-of-type {\n",
       "        vertical-align: middle;\n",
       "    }\n",
       "\n",
       "    .dataframe tbody tr th {\n",
       "        vertical-align: top;\n",
       "    }\n",
       "\n",
       "    .dataframe thead th {\n",
       "        text-align: right;\n",
       "    }\n",
       "</style>\n",
       "<table border=\"1\" class=\"dataframe\">\n",
       "  <thead>\n",
       "    <tr style=\"text-align: right;\">\n",
       "      <th></th>\n",
       "      <th>TransactionID</th>\n",
       "      <th>CustomerID</th>\n",
       "      <th>Date</th>\n",
       "      <th>ProductID</th>\n",
       "      <th>Price</th>\n",
       "      <th>Qty</th>\n",
       "      <th>TotalAmount</th>\n",
       "      <th>StoreID</th>\n",
       "    </tr>\n",
       "  </thead>\n",
       "  <tbody>\n",
       "    <tr>\n",
       "      <th>5019</th>\n",
       "      <td>TR85684</td>\n",
       "      <td>55</td>\n",
       "      <td>31/12/2022</td>\n",
       "      <td>P8</td>\n",
       "      <td>16000</td>\n",
       "      <td>1</td>\n",
       "      <td>16000</td>\n",
       "      <td>6</td>\n",
       "    </tr>\n",
       "    <tr>\n",
       "      <th>5013</th>\n",
       "      <td>TR38129</td>\n",
       "      <td>253</td>\n",
       "      <td>31/12/2022</td>\n",
       "      <td>P3</td>\n",
       "      <td>7500</td>\n",
       "      <td>5</td>\n",
       "      <td>37500</td>\n",
       "      <td>4</td>\n",
       "    </tr>\n",
       "    <tr>\n",
       "      <th>5008</th>\n",
       "      <td>TR12821</td>\n",
       "      <td>203</td>\n",
       "      <td>31/12/2022</td>\n",
       "      <td>P3</td>\n",
       "      <td>7500</td>\n",
       "      <td>1</td>\n",
       "      <td>7500</td>\n",
       "      <td>10</td>\n",
       "    </tr>\n",
       "    <tr>\n",
       "      <th>5009</th>\n",
       "      <td>TR13635</td>\n",
       "      <td>408</td>\n",
       "      <td>31/12/2022</td>\n",
       "      <td>P7</td>\n",
       "      <td>9400</td>\n",
       "      <td>4</td>\n",
       "      <td>37600</td>\n",
       "      <td>3</td>\n",
       "    </tr>\n",
       "    <tr>\n",
       "      <th>5011</th>\n",
       "      <td>TR31574</td>\n",
       "      <td>212</td>\n",
       "      <td>31/12/2022</td>\n",
       "      <td>P7</td>\n",
       "      <td>9400</td>\n",
       "      <td>2</td>\n",
       "      <td>18800</td>\n",
       "      <td>13</td>\n",
       "    </tr>\n",
       "    <tr>\n",
       "      <th>...</th>\n",
       "      <td>...</td>\n",
       "      <td>...</td>\n",
       "      <td>...</td>\n",
       "      <td>...</td>\n",
       "      <td>...</td>\n",
       "      <td>...</td>\n",
       "      <td>...</td>\n",
       "      <td>...</td>\n",
       "    </tr>\n",
       "    <tr>\n",
       "      <th>9</th>\n",
       "      <td>TR7596</td>\n",
       "      <td>270</td>\n",
       "      <td>01/01/2022</td>\n",
       "      <td>P7</td>\n",
       "      <td>9400</td>\n",
       "      <td>2</td>\n",
       "      <td>18800</td>\n",
       "      <td>14</td>\n",
       "    </tr>\n",
       "    <tr>\n",
       "      <th>10</th>\n",
       "      <td>TR76340</td>\n",
       "      <td>287</td>\n",
       "      <td>01/01/2022</td>\n",
       "      <td>P4</td>\n",
       "      <td>12000</td>\n",
       "      <td>4</td>\n",
       "      <td>48000</td>\n",
       "      <td>12</td>\n",
       "    </tr>\n",
       "    <tr>\n",
       "      <th>11</th>\n",
       "      <td>TR97336</td>\n",
       "      <td>233</td>\n",
       "      <td>01/01/2022</td>\n",
       "      <td>P7</td>\n",
       "      <td>9400</td>\n",
       "      <td>2</td>\n",
       "      <td>18800</td>\n",
       "      <td>12</td>\n",
       "    </tr>\n",
       "    <tr>\n",
       "      <th>1</th>\n",
       "      <td>TR16356</td>\n",
       "      <td>165</td>\n",
       "      <td>01/01/2022</td>\n",
       "      <td>P9</td>\n",
       "      <td>10000</td>\n",
       "      <td>7</td>\n",
       "      <td>70000</td>\n",
       "      <td>1</td>\n",
       "    </tr>\n",
       "    <tr>\n",
       "      <th>0</th>\n",
       "      <td>TR11369</td>\n",
       "      <td>328</td>\n",
       "      <td>01/01/2022</td>\n",
       "      <td>P3</td>\n",
       "      <td>7500</td>\n",
       "      <td>4</td>\n",
       "      <td>30000</td>\n",
       "      <td>12</td>\n",
       "    </tr>\n",
       "  </tbody>\n",
       "</table>\n",
       "<p>5020 rows × 8 columns</p>\n",
       "</div>"
      ],
      "text/plain": [
       "     TransactionID  CustomerID        Date ProductID  Price  Qty  TotalAmount  \\\n",
       "5019       TR85684          55  31/12/2022        P8  16000    1        16000   \n",
       "5013       TR38129         253  31/12/2022        P3   7500    5        37500   \n",
       "5008       TR12821         203  31/12/2022        P3   7500    1         7500   \n",
       "5009       TR13635         408  31/12/2022        P7   9400    4        37600   \n",
       "5011       TR31574         212  31/12/2022        P7   9400    2        18800   \n",
       "...            ...         ...         ...       ...    ...  ...          ...   \n",
       "9           TR7596         270  01/01/2022        P7   9400    2        18800   \n",
       "10         TR76340         287  01/01/2022        P4  12000    4        48000   \n",
       "11         TR97336         233  01/01/2022        P7   9400    2        18800   \n",
       "1          TR16356         165  01/01/2022        P9  10000    7        70000   \n",
       "0          TR11369         328  01/01/2022        P3   7500    4        30000   \n",
       "\n",
       "      StoreID  \n",
       "5019        6  \n",
       "5013        4  \n",
       "5008       10  \n",
       "5009        3  \n",
       "5011       13  \n",
       "...       ...  \n",
       "9          14  \n",
       "10         12  \n",
       "11         12  \n",
       "1           1  \n",
       "0          12  \n",
       "\n",
       "[5020 rows x 8 columns]"
      ]
     },
     "execution_count": 15,
     "metadata": {},
     "output_type": "execute_result"
    }
   ],
   "source": [
    "df_transaction.sort_values(by='Date', ascending=False)"
   ]
  },
  {
   "cell_type": "code",
   "execution_count": 16,
   "id": "64f3aee4-6210-47a7-ac69-4a80bff34fba",
   "metadata": {},
   "outputs": [
    {
     "data": {
      "text/plain": [
       "TransactionID\n",
       "TR11369    1\n",
       "TR7241     1\n",
       "TR25557    1\n",
       "TR15572    1\n",
       "TR11870    1\n",
       "          ..\n",
       "TR6576     1\n",
       "TR59105    1\n",
       "TR54351    1\n",
       "TR52555    1\n",
       "TR85684    1\n",
       "Name: count, Length: 4908, dtype: int64"
      ]
     },
     "execution_count": 16,
     "metadata": {},
     "output_type": "execute_result"
    }
   ],
   "source": [
    "df_transaction = df_transaction.drop_duplicates(subset='TransactionID', keep='first')\n",
    "df_transaction['TransactionID'].value_counts()"
   ]
  },
  {
   "cell_type": "markdown",
   "id": "bffc79cf-485d-4a82-b550-bb3b93ac6ed2",
   "metadata": {},
   "source": [
    "## MERGING DATA"
   ]
  },
  {
   "cell_type": "code",
   "execution_count": 17,
   "id": "caacad16-153e-4a32-9846-9ca49b80d9a7",
   "metadata": {},
   "outputs": [],
   "source": [
    "df = pd.merge(df_transaction, df_customer, on='CustomerID', how='inner')"
   ]
  },
  {
   "cell_type": "code",
   "execution_count": 18,
   "id": "797d368b-29b3-4167-98a5-2a4ff29e5593",
   "metadata": {},
   "outputs": [
    {
     "data": {
      "text/html": [
       "<div>\n",
       "<style scoped>\n",
       "    .dataframe tbody tr th:only-of-type {\n",
       "        vertical-align: middle;\n",
       "    }\n",
       "\n",
       "    .dataframe tbody tr th {\n",
       "        vertical-align: top;\n",
       "    }\n",
       "\n",
       "    .dataframe thead th {\n",
       "        text-align: right;\n",
       "    }\n",
       "</style>\n",
       "<table border=\"1\" class=\"dataframe\">\n",
       "  <thead>\n",
       "    <tr style=\"text-align: right;\">\n",
       "      <th></th>\n",
       "      <th>TransactionID</th>\n",
       "      <th>CustomerID</th>\n",
       "      <th>Date</th>\n",
       "      <th>ProductID</th>\n",
       "      <th>Price_x</th>\n",
       "      <th>Qty</th>\n",
       "      <th>TotalAmount</th>\n",
       "      <th>StoreID</th>\n",
       "      <th>Age</th>\n",
       "      <th>Gender</th>\n",
       "      <th>Marital Status</th>\n",
       "      <th>Income</th>\n",
       "      <th>StoreName</th>\n",
       "      <th>GroupStore</th>\n",
       "      <th>Type</th>\n",
       "      <th>Latitude</th>\n",
       "      <th>Longitude</th>\n",
       "      <th>Product Name</th>\n",
       "      <th>Price_y</th>\n",
       "    </tr>\n",
       "  </thead>\n",
       "  <tbody>\n",
       "    <tr>\n",
       "      <th>0</th>\n",
       "      <td>TR11369</td>\n",
       "      <td>328</td>\n",
       "      <td>01/01/2022</td>\n",
       "      <td>P3</td>\n",
       "      <td>7500</td>\n",
       "      <td>4</td>\n",
       "      <td>30000</td>\n",
       "      <td>12</td>\n",
       "      <td>36</td>\n",
       "      <td>0</td>\n",
       "      <td>Married</td>\n",
       "      <td>10.53</td>\n",
       "      <td>Prestasi Utama</td>\n",
       "      <td>Prestasi</td>\n",
       "      <td>General Trade</td>\n",
       "      <td>-2.990934</td>\n",
       "      <td>104.756554</td>\n",
       "      <td>Crackers</td>\n",
       "      <td>7500</td>\n",
       "    </tr>\n",
       "    <tr>\n",
       "      <th>1</th>\n",
       "      <td>TR89318</td>\n",
       "      <td>183</td>\n",
       "      <td>17/07/2022</td>\n",
       "      <td>P3</td>\n",
       "      <td>7500</td>\n",
       "      <td>1</td>\n",
       "      <td>7500</td>\n",
       "      <td>12</td>\n",
       "      <td>27</td>\n",
       "      <td>1</td>\n",
       "      <td>Single</td>\n",
       "      <td>0.18</td>\n",
       "      <td>Prestasi Utama</td>\n",
       "      <td>Prestasi</td>\n",
       "      <td>General Trade</td>\n",
       "      <td>-2.990934</td>\n",
       "      <td>104.756554</td>\n",
       "      <td>Crackers</td>\n",
       "      <td>7500</td>\n",
       "    </tr>\n",
       "    <tr>\n",
       "      <th>2</th>\n",
       "      <td>TR9106</td>\n",
       "      <td>123</td>\n",
       "      <td>26/09/2022</td>\n",
       "      <td>P3</td>\n",
       "      <td>7500</td>\n",
       "      <td>4</td>\n",
       "      <td>30000</td>\n",
       "      <td>12</td>\n",
       "      <td>34</td>\n",
       "      <td>0</td>\n",
       "      <td>Married</td>\n",
       "      <td>4.36</td>\n",
       "      <td>Prestasi Utama</td>\n",
       "      <td>Prestasi</td>\n",
       "      <td>General Trade</td>\n",
       "      <td>-2.990934</td>\n",
       "      <td>104.756554</td>\n",
       "      <td>Crackers</td>\n",
       "      <td>7500</td>\n",
       "    </tr>\n",
       "    <tr>\n",
       "      <th>3</th>\n",
       "      <td>TR4331</td>\n",
       "      <td>335</td>\n",
       "      <td>08/01/2022</td>\n",
       "      <td>P3</td>\n",
       "      <td>7500</td>\n",
       "      <td>3</td>\n",
       "      <td>22500</td>\n",
       "      <td>12</td>\n",
       "      <td>29</td>\n",
       "      <td>1</td>\n",
       "      <td>Single</td>\n",
       "      <td>4.74</td>\n",
       "      <td>Prestasi Utama</td>\n",
       "      <td>Prestasi</td>\n",
       "      <td>General Trade</td>\n",
       "      <td>-2.990934</td>\n",
       "      <td>104.756554</td>\n",
       "      <td>Crackers</td>\n",
       "      <td>7500</td>\n",
       "    </tr>\n",
       "    <tr>\n",
       "      <th>4</th>\n",
       "      <td>TR6445</td>\n",
       "      <td>181</td>\n",
       "      <td>10/01/2022</td>\n",
       "      <td>P3</td>\n",
       "      <td>7500</td>\n",
       "      <td>4</td>\n",
       "      <td>30000</td>\n",
       "      <td>12</td>\n",
       "      <td>33</td>\n",
       "      <td>1</td>\n",
       "      <td>Married</td>\n",
       "      <td>9.94</td>\n",
       "      <td>Prestasi Utama</td>\n",
       "      <td>Prestasi</td>\n",
       "      <td>General Trade</td>\n",
       "      <td>-2.990934</td>\n",
       "      <td>104.756554</td>\n",
       "      <td>Crackers</td>\n",
       "      <td>7500</td>\n",
       "    </tr>\n",
       "  </tbody>\n",
       "</table>\n",
       "</div>"
      ],
      "text/plain": [
       "  TransactionID  CustomerID        Date ProductID  Price_x  Qty  TotalAmount  \\\n",
       "0       TR11369         328  01/01/2022        P3     7500    4        30000   \n",
       "1       TR89318         183  17/07/2022        P3     7500    1         7500   \n",
       "2        TR9106         123  26/09/2022        P3     7500    4        30000   \n",
       "3        TR4331         335  08/01/2022        P3     7500    3        22500   \n",
       "4        TR6445         181  10/01/2022        P3     7500    4        30000   \n",
       "\n",
       "   StoreID  Age  Gender Marital Status  Income       StoreName GroupStore  \\\n",
       "0       12   36       0        Married   10.53  Prestasi Utama   Prestasi   \n",
       "1       12   27       1         Single    0.18  Prestasi Utama   Prestasi   \n",
       "2       12   34       0        Married    4.36  Prestasi Utama   Prestasi   \n",
       "3       12   29       1         Single    4.74  Prestasi Utama   Prestasi   \n",
       "4       12   33       1        Married    9.94  Prestasi Utama   Prestasi   \n",
       "\n",
       "            Type  Latitude   Longitude Product Name  Price_y  \n",
       "0  General Trade -2.990934  104.756554     Crackers     7500  \n",
       "1  General Trade -2.990934  104.756554     Crackers     7500  \n",
       "2  General Trade -2.990934  104.756554     Crackers     7500  \n",
       "3  General Trade -2.990934  104.756554     Crackers     7500  \n",
       "4  General Trade -2.990934  104.756554     Crackers     7500  "
      ]
     },
     "execution_count": 18,
     "metadata": {},
     "output_type": "execute_result"
    }
   ],
   "source": [
    "df = pd.merge(df, df_store, on='StoreID', how='inner')\n",
    "df = pd.merge(df, df_product, on='ProductID', how='inner')\n",
    "df.head()"
   ]
  },
  {
   "cell_type": "code",
   "execution_count": 19,
   "id": "f2e9206a-6ec2-4c2a-a354-3c1f60824175",
   "metadata": {},
   "outputs": [],
   "source": [
    "df = df.drop(columns=['Price_x'])"
   ]
  },
  {
   "cell_type": "code",
   "execution_count": 20,
   "id": "e89e7c5c-7b40-487f-9d13-1d11c5be9a75",
   "metadata": {},
   "outputs": [
    {
     "data": {
      "text/html": [
       "<div>\n",
       "<style scoped>\n",
       "    .dataframe tbody tr th:only-of-type {\n",
       "        vertical-align: middle;\n",
       "    }\n",
       "\n",
       "    .dataframe tbody tr th {\n",
       "        vertical-align: top;\n",
       "    }\n",
       "\n",
       "    .dataframe thead th {\n",
       "        text-align: right;\n",
       "    }\n",
       "</style>\n",
       "<table border=\"1\" class=\"dataframe\">\n",
       "  <thead>\n",
       "    <tr style=\"text-align: right;\">\n",
       "      <th></th>\n",
       "      <th>TransactionID</th>\n",
       "      <th>CustomerID</th>\n",
       "      <th>Date</th>\n",
       "      <th>ProductID</th>\n",
       "      <th>Qty</th>\n",
       "      <th>TotalAmount</th>\n",
       "      <th>StoreID</th>\n",
       "      <th>Age</th>\n",
       "      <th>Gender</th>\n",
       "      <th>Marital Status</th>\n",
       "      <th>Income</th>\n",
       "      <th>StoreName</th>\n",
       "      <th>GroupStore</th>\n",
       "      <th>Type</th>\n",
       "      <th>Latitude</th>\n",
       "      <th>Longitude</th>\n",
       "      <th>Product Name</th>\n",
       "      <th>Price_y</th>\n",
       "    </tr>\n",
       "  </thead>\n",
       "  <tbody>\n",
       "    <tr>\n",
       "      <th>0</th>\n",
       "      <td>TR11369</td>\n",
       "      <td>328</td>\n",
       "      <td>01/01/2022</td>\n",
       "      <td>P3</td>\n",
       "      <td>4</td>\n",
       "      <td>30000</td>\n",
       "      <td>12</td>\n",
       "      <td>36</td>\n",
       "      <td>0</td>\n",
       "      <td>Married</td>\n",
       "      <td>10.53</td>\n",
       "      <td>Prestasi Utama</td>\n",
       "      <td>Prestasi</td>\n",
       "      <td>General Trade</td>\n",
       "      <td>-2.990934</td>\n",
       "      <td>104.756554</td>\n",
       "      <td>Crackers</td>\n",
       "      <td>7500</td>\n",
       "    </tr>\n",
       "    <tr>\n",
       "      <th>1</th>\n",
       "      <td>TR89318</td>\n",
       "      <td>183</td>\n",
       "      <td>17/07/2022</td>\n",
       "      <td>P3</td>\n",
       "      <td>1</td>\n",
       "      <td>7500</td>\n",
       "      <td>12</td>\n",
       "      <td>27</td>\n",
       "      <td>1</td>\n",
       "      <td>Single</td>\n",
       "      <td>0.18</td>\n",
       "      <td>Prestasi Utama</td>\n",
       "      <td>Prestasi</td>\n",
       "      <td>General Trade</td>\n",
       "      <td>-2.990934</td>\n",
       "      <td>104.756554</td>\n",
       "      <td>Crackers</td>\n",
       "      <td>7500</td>\n",
       "    </tr>\n",
       "    <tr>\n",
       "      <th>2</th>\n",
       "      <td>TR9106</td>\n",
       "      <td>123</td>\n",
       "      <td>26/09/2022</td>\n",
       "      <td>P3</td>\n",
       "      <td>4</td>\n",
       "      <td>30000</td>\n",
       "      <td>12</td>\n",
       "      <td>34</td>\n",
       "      <td>0</td>\n",
       "      <td>Married</td>\n",
       "      <td>4.36</td>\n",
       "      <td>Prestasi Utama</td>\n",
       "      <td>Prestasi</td>\n",
       "      <td>General Trade</td>\n",
       "      <td>-2.990934</td>\n",
       "      <td>104.756554</td>\n",
       "      <td>Crackers</td>\n",
       "      <td>7500</td>\n",
       "    </tr>\n",
       "    <tr>\n",
       "      <th>3</th>\n",
       "      <td>TR4331</td>\n",
       "      <td>335</td>\n",
       "      <td>08/01/2022</td>\n",
       "      <td>P3</td>\n",
       "      <td>3</td>\n",
       "      <td>22500</td>\n",
       "      <td>12</td>\n",
       "      <td>29</td>\n",
       "      <td>1</td>\n",
       "      <td>Single</td>\n",
       "      <td>4.74</td>\n",
       "      <td>Prestasi Utama</td>\n",
       "      <td>Prestasi</td>\n",
       "      <td>General Trade</td>\n",
       "      <td>-2.990934</td>\n",
       "      <td>104.756554</td>\n",
       "      <td>Crackers</td>\n",
       "      <td>7500</td>\n",
       "    </tr>\n",
       "    <tr>\n",
       "      <th>4</th>\n",
       "      <td>TR6445</td>\n",
       "      <td>181</td>\n",
       "      <td>10/01/2022</td>\n",
       "      <td>P3</td>\n",
       "      <td>4</td>\n",
       "      <td>30000</td>\n",
       "      <td>12</td>\n",
       "      <td>33</td>\n",
       "      <td>1</td>\n",
       "      <td>Married</td>\n",
       "      <td>9.94</td>\n",
       "      <td>Prestasi Utama</td>\n",
       "      <td>Prestasi</td>\n",
       "      <td>General Trade</td>\n",
       "      <td>-2.990934</td>\n",
       "      <td>104.756554</td>\n",
       "      <td>Crackers</td>\n",
       "      <td>7500</td>\n",
       "    </tr>\n",
       "  </tbody>\n",
       "</table>\n",
       "</div>"
      ],
      "text/plain": [
       "  TransactionID  CustomerID        Date ProductID  Qty  TotalAmount  StoreID  \\\n",
       "0       TR11369         328  01/01/2022        P3    4        30000       12   \n",
       "1       TR89318         183  17/07/2022        P3    1         7500       12   \n",
       "2        TR9106         123  26/09/2022        P3    4        30000       12   \n",
       "3        TR4331         335  08/01/2022        P3    3        22500       12   \n",
       "4        TR6445         181  10/01/2022        P3    4        30000       12   \n",
       "\n",
       "   Age  Gender Marital Status  Income       StoreName GroupStore  \\\n",
       "0   36       0        Married   10.53  Prestasi Utama   Prestasi   \n",
       "1   27       1         Single    0.18  Prestasi Utama   Prestasi   \n",
       "2   34       0        Married    4.36  Prestasi Utama   Prestasi   \n",
       "3   29       1         Single    4.74  Prestasi Utama   Prestasi   \n",
       "4   33       1        Married    9.94  Prestasi Utama   Prestasi   \n",
       "\n",
       "            Type  Latitude   Longitude Product Name  Price_y  \n",
       "0  General Trade -2.990934  104.756554     Crackers     7500  \n",
       "1  General Trade -2.990934  104.756554     Crackers     7500  \n",
       "2  General Trade -2.990934  104.756554     Crackers     7500  \n",
       "3  General Trade -2.990934  104.756554     Crackers     7500  \n",
       "4  General Trade -2.990934  104.756554     Crackers     7500  "
      ]
     },
     "execution_count": 20,
     "metadata": {},
     "output_type": "execute_result"
    }
   ],
   "source": [
    "df.head()"
   ]
  },
  {
   "cell_type": "code",
   "execution_count": 21,
   "id": "770528b9-475e-420e-a8a2-60a16fe86831",
   "metadata": {},
   "outputs": [],
   "source": [
    "df.rename(columns={'Price_y': 'Price'}, inplace=True)"
   ]
  },
  {
   "cell_type": "code",
   "execution_count": 22,
   "id": "13814965-5046-4cb9-bb98-91e942ff7534",
   "metadata": {},
   "outputs": [
    {
     "name": "stdout",
     "output_type": "stream",
     "text": [
      "<class 'pandas.core.frame.DataFrame'>\n",
      "RangeIndex: 4908 entries, 0 to 4907\n",
      "Data columns (total 18 columns):\n",
      " #   Column          Non-Null Count  Dtype  \n",
      "---  ------          --------------  -----  \n",
      " 0   TransactionID   4908 non-null   object \n",
      " 1   CustomerID      4908 non-null   int64  \n",
      " 2   Date            4908 non-null   object \n",
      " 3   ProductID       4908 non-null   object \n",
      " 4   Qty             4908 non-null   int64  \n",
      " 5   TotalAmount     4908 non-null   int64  \n",
      " 6   StoreID         4908 non-null   int64  \n",
      " 7   Age             4908 non-null   int64  \n",
      " 8   Gender          4908 non-null   int64  \n",
      " 9   Marital Status  4908 non-null   object \n",
      " 10  Income          4908 non-null   float64\n",
      " 11  StoreName       4908 non-null   object \n",
      " 12  GroupStore      4908 non-null   object \n",
      " 13  Type            4908 non-null   object \n",
      " 14  Latitude        4908 non-null   float64\n",
      " 15  Longitude       4908 non-null   float64\n",
      " 16  Product Name    4908 non-null   object \n",
      " 17  Price           4908 non-null   int64  \n",
      "dtypes: float64(3), int64(7), object(8)\n",
      "memory usage: 690.3+ KB\n"
     ]
    }
   ],
   "source": [
    "df.info()"
   ]
  },
  {
   "cell_type": "code",
   "execution_count": 23,
   "id": "0e1326a0-6b4b-41f1-8a5e-3a8b2e0e189d",
   "metadata": {},
   "outputs": [
    {
     "name": "stdout",
     "output_type": "stream",
     "text": [
      "<class 'pandas.core.frame.DataFrame'>\n",
      "RangeIndex: 4908 entries, 0 to 4907\n",
      "Data columns (total 18 columns):\n",
      " #   Column          Non-Null Count  Dtype         \n",
      "---  ------          --------------  -----         \n",
      " 0   TransactionID   4908 non-null   object        \n",
      " 1   CustomerID      4908 non-null   int64         \n",
      " 2   Date            4908 non-null   datetime64[ns]\n",
      " 3   ProductID       4908 non-null   object        \n",
      " 4   Qty             4908 non-null   int64         \n",
      " 5   TotalAmount     4908 non-null   int64         \n",
      " 6   StoreID         4908 non-null   int64         \n",
      " 7   Age             4908 non-null   int64         \n",
      " 8   Gender          4908 non-null   int64         \n",
      " 9   Marital Status  4908 non-null   object        \n",
      " 10  Income          4908 non-null   float64       \n",
      " 11  StoreName       4908 non-null   object        \n",
      " 12  GroupStore      4908 non-null   object        \n",
      " 13  Type            4908 non-null   object        \n",
      " 14  Latitude        4908 non-null   float64       \n",
      " 15  Longitude       4908 non-null   float64       \n",
      " 16  Product Name    4908 non-null   object        \n",
      " 17  Price           4908 non-null   int64         \n",
      "dtypes: datetime64[ns](1), float64(3), int64(7), object(7)\n",
      "memory usage: 690.3+ KB\n"
     ]
    }
   ],
   "source": [
    "# MENGUBAH TIPE DATA KOLOM 'Date'\n",
    "\n",
    "df['Date'] = pd.to_datetime(df['Date'], format='%d/%m/%Y')\n",
    "df.info()"
   ]
  },
  {
   "cell_type": "markdown",
   "id": "614ef4df-92a9-455f-a009-ae71f23b4794",
   "metadata": {},
   "source": [
    "## CLUSTERING"
   ]
  },
  {
   "cell_type": "code",
   "execution_count": 27,
   "id": "903537ae-60b4-41dd-adbb-2d94f29a0c16",
   "metadata": {},
   "outputs": [],
   "source": [
    "cluster = df.groupby('CustomerID').agg({\n",
    "    'TransactionID': 'count',\n",
    "    'Qty': 'sum',\n",
    "    'TotalAmount': 'sum',\n",
    "    'Age': 'first'\n",
    "}).reset_index().rename(columns={\n",
    "    'TransactionID': 'count_transaction',\n",
    "    'Qty': 'total_quantity'\n",
    "})"
   ]
  },
  {
   "cell_type": "code",
   "execution_count": 28,
   "id": "6f71e30c-eb1e-4d59-81a0-62f8a1f0de56",
   "metadata": {},
   "outputs": [
    {
     "data": {
      "text/html": [
       "<div>\n",
       "<style scoped>\n",
       "    .dataframe tbody tr th:only-of-type {\n",
       "        vertical-align: middle;\n",
       "    }\n",
       "\n",
       "    .dataframe tbody tr th {\n",
       "        vertical-align: top;\n",
       "    }\n",
       "\n",
       "    .dataframe thead th {\n",
       "        text-align: right;\n",
       "    }\n",
       "</style>\n",
       "<table border=\"1\" class=\"dataframe\">\n",
       "  <thead>\n",
       "    <tr style=\"text-align: right;\">\n",
       "      <th></th>\n",
       "      <th>CustomerID</th>\n",
       "      <th>count_transaction</th>\n",
       "      <th>total_quantity</th>\n",
       "      <th>TotalAmount</th>\n",
       "      <th>Age</th>\n",
       "    </tr>\n",
       "  </thead>\n",
       "  <tbody>\n",
       "    <tr>\n",
       "      <th>0</th>\n",
       "      <td>1</td>\n",
       "      <td>17</td>\n",
       "      <td>60</td>\n",
       "      <td>623300</td>\n",
       "      <td>55</td>\n",
       "    </tr>\n",
       "    <tr>\n",
       "      <th>1</th>\n",
       "      <td>2</td>\n",
       "      <td>13</td>\n",
       "      <td>57</td>\n",
       "      <td>392300</td>\n",
       "      <td>60</td>\n",
       "    </tr>\n",
       "    <tr>\n",
       "      <th>2</th>\n",
       "      <td>3</td>\n",
       "      <td>15</td>\n",
       "      <td>56</td>\n",
       "      <td>446200</td>\n",
       "      <td>32</td>\n",
       "    </tr>\n",
       "    <tr>\n",
       "      <th>3</th>\n",
       "      <td>4</td>\n",
       "      <td>10</td>\n",
       "      <td>46</td>\n",
       "      <td>302500</td>\n",
       "      <td>31</td>\n",
       "    </tr>\n",
       "    <tr>\n",
       "      <th>4</th>\n",
       "      <td>5</td>\n",
       "      <td>7</td>\n",
       "      <td>27</td>\n",
       "      <td>268600</td>\n",
       "      <td>58</td>\n",
       "    </tr>\n",
       "  </tbody>\n",
       "</table>\n",
       "</div>"
      ],
      "text/plain": [
       "   CustomerID  count_transaction  total_quantity  TotalAmount  Age\n",
       "0           1                 17              60       623300   55\n",
       "1           2                 13              57       392300   60\n",
       "2           3                 15              56       446200   32\n",
       "3           4                 10              46       302500   31\n",
       "4           5                  7              27       268600   58"
      ]
     },
     "execution_count": 28,
     "metadata": {},
     "output_type": "execute_result"
    }
   ],
   "source": [
    "cluster.head()"
   ]
  },
  {
   "cell_type": "code",
   "execution_count": 30,
   "id": "8d0b0a0d-1a29-48af-8c5e-80c7bc26c321",
   "metadata": {},
   "outputs": [
    {
     "data": {
      "text/plain": [
       "array([[2.72741855e-05, 9.62618313e-05, 9.99999991e-01, 8.82400120e-05],\n",
       "       [3.31379039e-05, 1.45296963e-04, 9.99999977e-01, 1.52944172e-04],\n",
       "       [3.36172116e-05, 1.25504257e-04, 9.99999989e-01, 7.17167182e-05],\n",
       "       ...,\n",
       "       [3.06539506e-05, 1.15803813e-04, 9.99999989e-01, 8.68528601e-05],\n",
       "       [2.59862978e-05, 9.92204096e-05, 9.99999986e-01, 1.34656270e-04],\n",
       "       [2.95925332e-05, 9.56066457e-05, 9.99999987e-01, 1.22922830e-04]])"
      ]
     },
     "execution_count": 30,
     "metadata": {},
     "output_type": "execute_result"
    }
   ],
   "source": [
    "data_cluster = cluster.drop(columns=['CustomerID'])\n",
    "data_cluster_normalize = preprocessing.normalize(data_cluster)\n",
    "data_cluster_normalize"
   ]
  },
  {
   "cell_type": "code",
   "execution_count": 32,
   "id": "1cfc65af-c0ad-4de3-884c-232fc8a41505",
   "metadata": {},
   "outputs": [],
   "source": [
    "K = range(2, 8)\n",
    "fits = []\n",
    "score = []\n",
    "\n",
    "for k in K:\n",
    "    model = KMeans(n_clusters = k, random_state = 0, n_init='auto').fit(data_cluster_normalize)\n",
    "    fits.append(model)\n",
    "    score.append(silhouette_score(data_cluster_normalize, model.labels_, metric='euclidean'))"
   ]
  },
  {
   "cell_type": "code",
   "execution_count": 33,
   "id": "5626ba3f-6b6a-469d-9825-f1d9c9b822b1",
   "metadata": {},
   "outputs": [
    {
     "data": {
      "image/png": "[encoded data removed]",
      "text/plain": [
       "<Figure size 640x480 with 1 Axes>"
      ]
     },
     "metadata": {},
     "output_type": "display_data"
    }
   ],
   "source": [
    "sns.lineplot(x = K, y = score);"
   ]
  },
  {
   "cell_type": "code",
   "execution_count": 50,
   "id": "afaeb567-ae27-426c-9d9a-6fdddbd68dec",
   "metadata": {},
   "outputs": [
    {
     "data": {
      "text/html": [
       "<style>#sk-container-id-2 {color: black;}#sk-container-id-2 pre{padding: 0;}#sk-container-id-2 div.sk-toggleable {background-color: white;}#sk-container-id-2 label.sk-toggleable__label {cursor: pointer;display: block;width: 100%;margin-bottom: 0;padding: 0.3em;box-sizing: border-box;text-align: center;}#sk-container-id-2 label.sk-toggleable__label-arrow:before {content: \"▸\";float: left;margin-right: 0.25em;color: #696969;}#sk-container-id-2 label.sk-toggleable__label-arrow:hover:before {color: black;}#sk-container-id-2 div.sk-estimator:hover label.sk-toggleable__label-arrow:before {color: black;}#sk-container-id-2 div.sk-toggleable__content {max-height: 0;max-width: 0;overflow: hidden;text-align: left;background-color: #f0f8ff;}#sk-container-id-2 div.sk-toggleable__content pre {margin: 0.2em;color: black;border-radius: 0.25em;background-color: #f0f8ff;}#sk-container-id-2 input.sk-toggleable__control:checked~div.sk-toggleable__content {max-height: 200px;max-width: 100%;overflow: auto;}#sk-container-id-2 input.sk-toggleable__control:checked~label.sk-toggleable__label-arrow:before {content: \"▾\";}#sk-container-id-2 div.sk-estimator input.sk-toggleable__control:checked~label.sk-toggleable__label {background-color: #d4ebff;}#sk-container-id-2 div.sk-label input.sk-toggleable__control:checked~label.sk-toggleable__label {background-color: #d4ebff;}#sk-container-id-2 input.sk-hidden--visually {border: 0;clip: rect(1px 1px 1px 1px);clip: rect(1px, 1px, 1px, 1px);height: 1px;margin: -1px;overflow: hidden;padding: 0;position: absolute;width: 1px;}#sk-container-id-2 div.sk-estimator {font-family: monospace;background-color: #f0f8ff;border: 1px dotted black;border-radius: 0.25em;box-sizing: border-box;margin-bottom: 0.5em;}#sk-container-id-2 div.sk-estimator:hover {background-color: #d4ebff;}#sk-container-id-2 div.sk-parallel-item::after {content: \"\";width: 100%;border-bottom: 1px solid gray;flex-grow: 1;}#sk-container-id-2 div.sk-label:hover label.sk-toggleable__label {background-color: #d4ebff;}#sk-container-id-2 div.sk-serial::before {content: \"\";position: absolute;border-left: 1px solid gray;box-sizing: border-box;top: 0;bottom: 0;left: 50%;z-index: 0;}#sk-container-id-2 div.sk-serial {display: flex;flex-direction: column;align-items: center;background-color: white;padding-right: 0.2em;padding-left: 0.2em;position: relative;}#sk-container-id-2 div.sk-item {position: relative;z-index: 1;}#sk-container-id-2 div.sk-parallel {display: flex;align-items: stretch;justify-content: center;background-color: white;position: relative;}#sk-container-id-2 div.sk-item::before, #sk-container-id-2 div.sk-parallel-item::before {content: \"\";position: absolute;border-left: 1px solid gray;box-sizing: border-box;top: 0;bottom: 0;left: 50%;z-index: -1;}#sk-container-id-2 div.sk-parallel-item {display: flex;flex-direction: column;z-index: 1;position: relative;background-color: white;}#sk-container-id-2 div.sk-parallel-item:first-child::after {align-self: flex-end;width: 50%;}#sk-container-id-2 div.sk-parallel-item:last-child::after {align-self: flex-start;width: 50%;}#sk-container-id-2 div.sk-parallel-item:only-child::after {width: 0;}#sk-container-id-2 div.sk-dashed-wrapped {border: 1px dashed gray;margin: 0 0.4em 0.5em 0.4em;box-sizing: border-box;padding-bottom: 0.4em;background-color: white;}#sk-container-id-2 div.sk-label label {font-family: monospace;font-weight: bold;display: inline-block;line-height: 1.2em;}#sk-container-id-2 div.sk-label-container {text-align: center;}#sk-container-id-2 div.sk-container {/* jupyter's `normalize.less` sets `[hidden] { display: none; }` but bootstrap.min.css set `[hidden] { display: none !important; }` so we also need the `!important` here to be able to override the default hidden behavior on the sphinx rendered scikit-learn.org. See: https://github.com/scikit-learn/scikit-learn/issues/21755 */display: inline-block !important;position: relative;}#sk-container-id-2 div.sk-text-repr-fallback {display: none;}</style><div id=\"sk-container-id-2\" class=\"sk-top-container\"><div class=\"sk-text-repr-fallback\"><pre>KMeans(n_clusters=6, n_init=&#x27;auto&#x27;, random_state=0)</pre><b>In a Jupyter environment, please rerun this cell to show the HTML representation or trust the notebook. <br />On GitHub, the HTML representation is unable to render, please try loading this page with nbviewer.org.</b></div><div class=\"sk-container\" hidden><div class=\"sk-item\"><div class=\"sk-estimator sk-toggleable\"><input class=\"sk-toggleable__control sk-hidden--visually\" id=\"sk-estimator-id-2\" type=\"checkbox\" checked><label for=\"sk-estimator-id-2\" class=\"sk-toggleable__label sk-toggleable__label-arrow\">KMeans</label><div class=\"sk-toggleable__content\"><pre>KMeans(n_clusters=6, n_init=&#x27;auto&#x27;, random_state=0)</pre></div></div></div></div></div>"
      ],
      "text/plain": [
       "KMeans(n_clusters=6, n_init='auto', random_state=0)"
      ]
     },
     "execution_count": 50,
     "metadata": {},
     "output_type": "execute_result"
    }
   ],
   "source": [
    "fits[4]"
   ]
  },
  {
   "cell_type": "code",
   "execution_count": 51,
   "id": "c4ca18e8-e709-4f68-9215-2a0e446c9215",
   "metadata": {},
   "outputs": [],
   "source": [
    "cluster['cluster_label'] = fits[3].labels_"
   ]
  },
  {
   "cell_type": "code",
   "execution_count": 52,
   "id": "d195e1ec-315e-4fcb-a5f8-f56838bca5fb",
   "metadata": {},
   "outputs": [
    {
     "data": {
      "text/html": [
       "<div>\n",
       "<style scoped>\n",
       "    .dataframe tbody tr th:only-of-type {\n",
       "        vertical-align: middle;\n",
       "    }\n",
       "\n",
       "    .dataframe tbody tr th {\n",
       "        vertical-align: top;\n",
       "    }\n",
       "\n",
       "    .dataframe thead th {\n",
       "        text-align: right;\n",
       "    }\n",
       "</style>\n",
       "<table border=\"1\" class=\"dataframe\">\n",
       "  <thead>\n",
       "    <tr style=\"text-align: right;\">\n",
       "      <th></th>\n",
       "      <th>CustomerID</th>\n",
       "      <th>count_transaction</th>\n",
       "      <th>total_quantity</th>\n",
       "      <th>TotalAmount</th>\n",
       "      <th>Age</th>\n",
       "      <th>cluster_label</th>\n",
       "    </tr>\n",
       "  </thead>\n",
       "  <tbody>\n",
       "    <tr>\n",
       "      <th>0</th>\n",
       "      <td>1</td>\n",
       "      <td>17</td>\n",
       "      <td>60</td>\n",
       "      <td>623300</td>\n",
       "      <td>55</td>\n",
       "      <td>4</td>\n",
       "    </tr>\n",
       "    <tr>\n",
       "      <th>1</th>\n",
       "      <td>2</td>\n",
       "      <td>13</td>\n",
       "      <td>57</td>\n",
       "      <td>392300</td>\n",
       "      <td>60</td>\n",
       "      <td>3</td>\n",
       "    </tr>\n",
       "    <tr>\n",
       "      <th>2</th>\n",
       "      <td>3</td>\n",
       "      <td>15</td>\n",
       "      <td>56</td>\n",
       "      <td>446200</td>\n",
       "      <td>32</td>\n",
       "      <td>4</td>\n",
       "    </tr>\n",
       "    <tr>\n",
       "      <th>3</th>\n",
       "      <td>4</td>\n",
       "      <td>10</td>\n",
       "      <td>46</td>\n",
       "      <td>302500</td>\n",
       "      <td>31</td>\n",
       "      <td>0</td>\n",
       "    </tr>\n",
       "    <tr>\n",
       "      <th>4</th>\n",
       "      <td>5</td>\n",
       "      <td>7</td>\n",
       "      <td>27</td>\n",
       "      <td>268600</td>\n",
       "      <td>58</td>\n",
       "      <td>1</td>\n",
       "    </tr>\n",
       "  </tbody>\n",
       "</table>\n",
       "</div>"
      ],
      "text/plain": [
       "   CustomerID  count_transaction  total_quantity  TotalAmount  Age  \\\n",
       "0           1                 17              60       623300   55   \n",
       "1           2                 13              57       392300   60   \n",
       "2           3                 15              56       446200   32   \n",
       "3           4                 10              46       302500   31   \n",
       "4           5                  7              27       268600   58   \n",
       "\n",
       "   cluster_label  \n",
       "0              4  \n",
       "1              3  \n",
       "2              4  \n",
       "3              0  \n",
       "4              1  "
      ]
     },
     "execution_count": 52,
     "metadata": {},
     "output_type": "execute_result"
    }
   ],
   "source": [
    "cluster.head()"
   ]
  },
  {
   "cell_type": "code",
   "execution_count": 53,
   "id": "66a0e27b-67a0-44a7-820e-d148fd77b069",
   "metadata": {},
   "outputs": [
    {
     "data": {
      "text/html": [
       "<div>\n",
       "<style scoped>\n",
       "    .dataframe tbody tr th:only-of-type {\n",
       "        vertical-align: middle;\n",
       "    }\n",
       "\n",
       "    .dataframe tbody tr th {\n",
       "        vertical-align: top;\n",
       "    }\n",
       "\n",
       "    .dataframe thead th {\n",
       "        text-align: right;\n",
       "    }\n",
       "</style>\n",
       "<table border=\"1\" class=\"dataframe\">\n",
       "  <thead>\n",
       "    <tr style=\"text-align: right;\">\n",
       "      <th></th>\n",
       "      <th>CustomerID</th>\n",
       "      <th>count_transaction</th>\n",
       "      <th>total_quantity</th>\n",
       "      <th>Age</th>\n",
       "    </tr>\n",
       "    <tr>\n",
       "      <th>cluster_label</th>\n",
       "      <th></th>\n",
       "      <th></th>\n",
       "      <th></th>\n",
       "      <th></th>\n",
       "    </tr>\n",
       "  </thead>\n",
       "  <tbody>\n",
       "    <tr>\n",
       "      <th>4</th>\n",
       "      <td>133</td>\n",
       "      <td>13.000000</td>\n",
       "      <td>49.338346</td>\n",
       "      <td>29.150376</td>\n",
       "    </tr>\n",
       "    <tr>\n",
       "      <th>0</th>\n",
       "      <td>144</td>\n",
       "      <td>11.659722</td>\n",
       "      <td>42.368056</td>\n",
       "      <td>39.722222</td>\n",
       "    </tr>\n",
       "    <tr>\n",
       "      <th>3</th>\n",
       "      <td>107</td>\n",
       "      <td>9.392523</td>\n",
       "      <td>32.859813</td>\n",
       "      <td>46.897196</td>\n",
       "    </tr>\n",
       "    <tr>\n",
       "      <th>1</th>\n",
       "      <td>53</td>\n",
       "      <td>8.264151</td>\n",
       "      <td>28.490566</td>\n",
       "      <td>50.075472</td>\n",
       "    </tr>\n",
       "    <tr>\n",
       "      <th>2</th>\n",
       "      <td>10</td>\n",
       "      <td>5.700000</td>\n",
       "      <td>21.400000</td>\n",
       "      <td>51.400000</td>\n",
       "    </tr>\n",
       "  </tbody>\n",
       "</table>\n",
       "</div>"
      ],
      "text/plain": [
       "               CustomerID  count_transaction  total_quantity        Age\n",
       "cluster_label                                                          \n",
       "4                     133          13.000000       49.338346  29.150376\n",
       "0                     144          11.659722       42.368056  39.722222\n",
       "3                     107           9.392523       32.859813  46.897196\n",
       "1                      53           8.264151       28.490566  50.075472\n",
       "2                      10           5.700000       21.400000  51.400000"
      ]
     },
     "execution_count": 53,
     "metadata": {},
     "output_type": "execute_result"
    }
   ],
   "source": [
    "cluster.groupby(['cluster_label']).agg({\n",
    "    'CustomerID' : 'count',\n",
    "    'count_transaction' : 'mean',\n",
    "    'total_quantity' : 'mean',\n",
    "    'Age' : 'mean'\n",
    "}).sort_values(by='Age', ascending=True)"
   ]
  },
  {
   "cell_type": "code",
   "execution_count": null,
   "id": "4e7df4dc-3fa5-4bca-bb1d-caf82bd6aca4",
   "metadata": {},
   "outputs": [],
   "source": []
  }
 ],
 "metadata": {
  "kernelspec": {
   "display_name": "Python 3 (ipykernel)",
   "language": "python",
   "name": "python3"
  },
  "language_info": {
   "codemirror_mode": {
    "name": "ipython",
    "version": 3
   },
   "file_extension": ".py",
   "mimetype": "text/x-python",
   "name": "python",
   "nbconvert_exporter": "python",
   "pygments_lexer": "ipython3",
   "version": "3.11.5"
  }
 },
 "nbformat": 4,
 "nbformat_minor": 5
}
